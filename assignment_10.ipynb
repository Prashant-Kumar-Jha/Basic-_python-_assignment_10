{
 "cells": [
  {
   "cell_type": "code",
   "execution_count": null,
   "metadata": {},
   "outputs": [],
   "source": [
    "Q1 - How do you distinguish between shutil.copy() and shutil.copytree()?\n",
    "\n",
    "ans  The shutil.copy() function will copy a single file, while shutil.copytree()\n",
    "     will copy an entire folder, along with all its contents."
   ]
  },
  {
   "cell_type": "code",
   "execution_count": null,
   "metadata": {},
   "outputs": [],
   "source": [
    "Q2 -What is the name of the feature used to rename files?\n",
    "\n",
    "ans - The shutil.move() function is used for renaming files, as well as moving them"
   ]
  },
  {
   "cell_type": "code",
   "execution_count": null,
   "metadata": {},
   "outputs": [],
   "source": [
    "Q3 - How are the delete functions in the send2trash and shutil modules different?\n",
    "\n",
    "ans - The send2trash functions will move a file or folder to the recycle bin,\n",
    "      while shutil functions will permanently delete files and folders"
   ]
  },
  {
   "cell_type": "code",
   "execution_count": null,
   "metadata": {},
   "outputs": [],
   "source": [
    "Q4 - . ZipFile objects have a close() function that is similar to that of File objects.\n",
    "       What ZipFile method is similar to the open() method of File objects?\n",
    "\n",
    "ans - The zipfile.ZipFile() function is equivalent to the open() function; the first argument is the filename,\n",
    "       and the second argument is the mode to open the ZIP file in (read, write, or append)."
   ]
  },
  {
   "cell_type": "code",
   "execution_count": null,
   "metadata": {},
   "outputs": [],
   "source": [
    "Q5 - 5. Create a programme that searches a folder tree for files with a certain file extension \n",
    "     (such as .pdf or .jpg). Copy these files to a new folder from wherever they are now.\n",
    "\n",
    "ans - "
   ]
  }
 ],
 "metadata": {
  "kernelspec": {
   "display_name": "Python 3",
   "language": "python",
   "name": "python3"
  },
  "language_info": {
   "codemirror_mode": {
    "name": "ipython",
    "version": 3
   },
   "file_extension": ".py",
   "mimetype": "text/x-python",
   "name": "python",
   "nbconvert_exporter": "python",
   "pygments_lexer": "ipython3",
   "version": "3.8.5"
  }
 },
 "nbformat": 4,
 "nbformat_minor": 4
}
